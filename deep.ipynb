{
  "cells": [
    {
      "cell_type": "markdown",
      "metadata": {
        "id": "view-in-github",
        "colab_type": "text"
      },
      "source": [
        "<a href=\"https://colab.research.google.com/github/Zahramashayekhpour/organic-and-nonorganic-fruit-classification/blob/master/deep.ipynb\" target=\"_parent\"><img src=\"https://colab.research.google.com/assets/colab-badge.svg\" alt=\"Open In Colab\"/></a>"
      ]
    },
    {
      "cell_type": "code",
      "execution_count": null,
      "metadata": {
        "id": "xRnv7eAn-dKQ"
      },
      "outputs": [],
      "source": [
        "from __future__ import absolute_import, division, print_function, unicode_literals\n",
        "from tensorflow.keras.layers import BatchNormalization\n",
        "import numpy as np\n",
        "import os\n",
        "import shutil\n",
        "import random\n",
        "import glob\n",
        "import matplotlib.pyplot as plt\n",
        "import warnings\n",
        "import itertools\n",
        "import tensorflow as tf\n",
        "from tensorflow.keras import layers\n",
        "from skimage.io import imread\n",
        "from skimage.transform import resize\n",
        "from skimage.color import gray2rgb\n",
        "import pandas as pd\n",
        "from sklearn.metrics import confusion_matrix\n",
        "from keras.preprocessing.image import ImageDataGenerator\n",
        "from tensorflow import keras\n",
        "from keras.models import Sequential\n",
        "from keras.layers import Conv2D, MaxPooling2D, AveragePooling2D, Dense, Activation, Dropout, Flatten\n",
        "from tensorflow.keras.optimizers import Adam\n",
        "from tensorflow.keras.metrics import categorical_crossentropy\n",
        "\n",
        "import cv2\n",
        "from sklearn.model_selection import train_test_split\n",
        "\n",
        "###  ! pip install TensorBoardColab   ## we use it when we use tensorflow.1 , But in Jupyter notebook is OK!\n",
        "from tensorflow.keras.models import Sequential,Model # Model type to be used\n",
        "from tensorflow.keras.layers import Dense, Activation, Dropout# Make Fully connected (FC) layers\n",
        "from tensorflow.keras.utils import to_categorical # NumPy related tools\n",
        "##   from tensorflow.keras.callbacks import TensorBoard  #Visulization of Accuracy and loss\n",
        "##   from tensorboardcolab import TensorBoardColab, TensorBoardColabCallback\n",
        "\n"
      ]
    },
    {
      "cell_type": "code",
      "execution_count": null,
      "metadata": {
        "colab": {
          "base_uri": "https://localhost:8080/"
        },
        "id": "sEVfzXmU59zk",
        "outputId": "bffe479c-3843-4fc4-fae6-157bb624f3e7"
      },
      "outputs": [
        {
          "output_type": "stream",
          "name": "stdout",
          "text": [
            "Collecting split-folders\n",
            "  Downloading split_folders-0.5.1-py3-none-any.whl (8.4 kB)\n",
            "Installing collected packages: split-folders\n",
            "Successfully installed split-folders-0.5.1\n"
          ]
        }
      ],
      "source": [
        "pip install split-folders"
      ]
    },
    {
      "cell_type": "code",
      "execution_count": null,
      "metadata": {
        "colab": {
          "base_uri": "https://localhost:8080/"
        },
        "id": "1UKx72KiwBkE",
        "outputId": "3b4dba3b-f0f8-4406-f22b-48c0f736f34c"
      },
      "outputs": [
        {
          "output_type": "stream",
          "name": "stdout",
          "text": [
            "Mounted at /content/gdrive\n"
          ]
        }
      ],
      "source": [
        "from google.colab import drive\n",
        "drive.mount('/content/gdrive')"
      ]
    },
    {
      "cell_type": "code",
      "execution_count": null,
      "metadata": {
        "id": "rTxofcPYBgkb"
      },
      "outputs": [],
      "source": [
        "\n",
        "train_dir = \"/content/gdrive/MyDrive/thesis/total-dataset(after segmentation)/RGB/mushroom/splited/train\"\n",
        "validation_dir = \"/content/gdrive/MyDrive/thesis/total-dataset(after segmentation)/RGB/mushroom/splited/val\"\n",
        "test_dir = \"/content/gdrive/MyDrive/thesis/total-dataset(after segmentation)/RGB/mushroom/splited/test\"\n",
        "#train_aug_dir= \"/content/gdrive/MyDrive/thesis/total-dataset(after segmentation)/RGB/apple/aug\"\n"
      ]
    },
    {
      "cell_type": "code",
      "execution_count": null,
      "metadata": {
        "colab": {
          "base_uri": "https://localhost:8080/"
        },
        "id": "ArvofJfO6ZGx",
        "outputId": "0d6ad183-a589-4c8e-cd20-7fec79f7e81e"
      },
      "outputs": [
        {
          "output_type": "stream",
          "name": "stdout",
          "text": [
            "total training  images: 305\n",
            "total validation  images: 99\n",
            "total test  images: 92\n"
          ]
        }
      ],
      "source": [
        "\n",
        "import glob\n",
        "trn_fnames = glob.glob(f'{train_dir}/*/*.jpg')\n",
        "train_count = len(trn_fnames)\n",
        "valid_fnames = glob.glob(f'{validation_dir}/*/*.jpg')\n",
        "val_count = len(valid_fnames)\n",
        "test_fnames = glob.glob(f'{test_dir}/*/*.jpg')\n",
        "test_count = len(test_fnames)\n",
        "\n",
        "print('total training  images:',train_count)\n",
        "print('total validation  images:', val_count)\n",
        "print('total test  images:', test_count)\n"
      ]
    },
    {
      "cell_type": "code",
      "execution_count": null,
      "metadata": {
        "colab": {
          "base_uri": "https://localhost:8080/"
        },
        "id": "yn_z58wrwg5X",
        "outputId": "0cae01d2-17a5-4442-80b8-f3401ebeae2f"
      },
      "outputs": [
        {
          "output_type": "stream",
          "name": "stdout",
          "text": [
            "Found 305 images belonging to 2 classes.\n",
            "Found 99 images belonging to 2 classes.\n",
            "Found 92 images belonging to 2 classes.\n"
          ]
        }
      ],
      "source": [
        "#data generators\n",
        "train_datagen= ImageDataGenerator(\n",
        "    rescale=1./255,\n",
        "    rotation_range=45,\n",
        "    width_shift_range=0.1,\n",
        "    height_shift_range=0.1,\n",
        "    shear_range=0.1,\n",
        "    zoom_range=0.1,\n",
        "    horizontal_flip=True,\n",
        "    #vertical_flip=True,\n",
        "    fill_mode='nearest')\n",
        "\n",
        "test_datagen= ImageDataGenerator(\n",
        "    rescale=1./255,\n",
        "    #rotation_range=25,\n",
        "    fill_mode='nearest')\n",
        "\n",
        "train_batches=train_datagen.flow_from_directory(\n",
        "    train_dir,\n",
        "    shuffle=True,\n",
        "    target_size=(224,224),\n",
        "    batch_size=32,\n",
        "    class_mode='categorical',\n",
        "    interpolation='nearest'\n",
        "    #save_to_dir=\"/content/gdrive/MyDrive/thesis/total-dataset(after segmentation)/RGB/apple/aug\"\n",
        "    )\n",
        "\n",
        "validation_batches=test_datagen.flow_from_directory(\n",
        "    validation_dir,\n",
        "    shuffle=False,\n",
        "    target_size=(224,224),\n",
        "    batch_size=32,\n",
        "    class_mode='categorical',\n",
        "    interpolation='nearest')\n",
        "\n",
        "test_batches=test_datagen.flow_from_directory(\n",
        "    test_dir,\n",
        "    target_size=(224,224),\n",
        "    batch_size=32,\n",
        "    shuffle=False,\n",
        "    class_mode='categorical',)\n",
        "\n"
      ]
    },
    {
      "cell_type": "code",
      "execution_count": null,
      "metadata": {
        "id": "sS9BIVrbL8xL",
        "colab": {
          "base_uri": "https://localhost:8080/"
        },
        "outputId": "aeb5679d-b8f0-4eaf-ef81-c445094a8bcc"
      },
      "outputs": [
        {
          "output_type": "stream",
          "name": "stdout",
          "text": [
            "Downloading data from https://storage.googleapis.com/tensorflow/keras-applications/vgg16/vgg16_weights_tf_dim_ordering_tf_kernels_notop.h5\n",
            "58889256/58889256 [==============================] - 0s 0us/step\n"
          ]
        }
      ],
      "source": [
        "model = tf.keras.applications.VGG16(weights='imagenet',  input_shape=(224, 224, 3), include_top=False)\n",
        "                                ## weights='None' ,  means that use random weights for this model\n",
        "for layer in model.layers:\n",
        "  layer.trainable = False\n",
        "model.summary()"
      ]
    },
    {
      "cell_type": "code",
      "execution_count": null,
      "metadata": {
        "id": "wW7KhiVwOlUY"
      },
      "outputs": [],
      "source": [
        "from tensorflow.keras import layers, models, optimizers, callbacks, regularizers\n",
        "from tensorflow.keras.regularizers import l2\n",
        "\n",
        "Model = Sequential()\n",
        "Model.add(model)\n",
        "#Model.add(layers.Conv2D(528, (3, 3), activation='relu'))\n",
        "Model.add(layers.GlobalAveragePooling2D())\n",
        "Model.add(BatchNormalization())\n",
        "Model.add(Dropout(0.5))\n",
        "Model.add(Dense(256, activation='relu', kernel_regularizer=l2(0.001)))\n",
        "#Model.add(Dense(256, activation='relu'))\n",
        "\n",
        "#Model.add(layers.Flatten())\n",
        "#Model.add(Dense(128, activation='relu'))\n",
        "#Model.add(BatchNormalization())\n",
        "#Model.add(Dropout(0.25))\n",
        "\n",
        "Model.add(Dense(2, activation='softmax'))"
      ]
    },
    {
      "cell_type": "code",
      "source": [
        "pip install visualkeras"
      ],
      "metadata": {
        "colab": {
          "base_uri": "https://localhost:8080/"
        },
        "id": "ZPO24nOcu7rm",
        "outputId": "3babc3c9-c3cf-4c4f-fa69-494d27266dbe"
      },
      "execution_count": null,
      "outputs": [
        {
          "output_type": "stream",
          "name": "stdout",
          "text": [
            "Collecting visualkeras\n",
            "  Downloading visualkeras-0.0.2-py3-none-any.whl (12 kB)\n",
            "Requirement already satisfied: pillow>=6.2.0 in /usr/local/lib/python3.10/dist-packages (from visualkeras) (9.4.0)\n",
            "Requirement already satisfied: numpy>=1.18.1 in /usr/local/lib/python3.10/dist-packages (from visualkeras) (1.23.5)\n",
            "Collecting aggdraw>=1.3.11 (from visualkeras)\n",
            "  Downloading aggdraw-1.3.18-cp310-cp310-manylinux_2_17_x86_64.manylinux2014_x86_64.whl (993 kB)\n",
            "\u001b[2K     \u001b[90m━━━━━━━━━━━━━━━━━━━━━━━━━━━━━━━━━━━━━━━━\u001b[0m \u001b[32m993.7/993.7 kB\u001b[0m \u001b[31m5.4 MB/s\u001b[0m eta \u001b[36m0:00:00\u001b[0m\n",
            "\u001b[?25hInstalling collected packages: aggdraw, visualkeras\n",
            "Successfully installed aggdraw-1.3.18 visualkeras-0.0.2\n"
          ]
        }
      ]
    },
    {
      "cell_type": "code",
      "source": [
        "import visualkeras\n",
        "\n",
        "\n",
        "visualkeras.layered_view(Model).show() # display using your system viewer\n",
        "visualkeras.layered_view(Model, to_file='output.png') # write to disk\n",
        "visualkeras.layered_view(Model, to_file='output.png').show() # write and show\n",
        "\n",
        "visualkeras.layered_view(Model)"
      ],
      "metadata": {
        "colab": {
          "base_uri": "https://localhost:8080/",
          "height": 55
        },
        "id": "HIFvsmU5rAA9",
        "outputId": "562c1024-dc57-4053-8d33-40b8a7f24750"
      },
      "execution_count": null,
      "outputs": [
        {
          "output_type": "execute_result",
          "data": {
            "text/plain": [
              "<PIL.Image.Image image mode=RGBA size=329x38>"
            ],
            "image/png": "[encoded data removed]"
          },
          "metadata": {},
          "execution_count": 11
        }
      ]
    },
    {
      "cell_type": "code",
      "execution_count": null,
      "metadata": {
        "colab": {
          "base_uri": "https://localhost:8080/"
        },
        "id": "5E49sgqKOOrW",
        "outputId": "ad9de324-8bbd-4e50-eff5-d076b254006e"
      },
      "outputs": [
        {
          "output_type": "stream",
          "name": "stdout",
          "text": [
            "Model: \"sequential\"\n",
            "_________________________________________________________________\n",
            " Layer (type)                Output Shape              Param #   \n",
            "=================================================================\n",
            " vgg16 (Functional)          (None, 7, 7, 512)         14714688  \n",
            "                                                                 \n",
            " global_average_pooling2d (  (None, 512)               0         \n",
            " GlobalAveragePooling2D)                                         \n",
            "                                                                 \n",
            " batch_normalization (Batch  (None, 512)               2048      \n",
            " Normalization)                                                  \n",
            "                                                                 \n",
            " dropout (Dropout)           (None, 512)               0         \n",
            "                                                                 \n",
            " dense (Dense)               (None, 256)               131328    \n",
            "                                                                 \n",
            " dense_1 (Dense)             (None, 2)                 514       \n",
            "                                                                 \n",
            "=================================================================\n",
            "Total params: 14848578 (56.64 MB)\n",
            "Trainable params: 132866 (519.01 KB)\n",
            "Non-trainable params: 14715712 (56.14 MB)\n",
            "_________________________________________________________________\n"
          ]
        }
      ],
      "source": [
        "Model.summary()"
      ]
    },
    {
      "cell_type": "code",
      "execution_count": null,
      "metadata": {
        "id": "UQNtLBk1b6mX"
      },
      "outputs": [],
      "source": [
        "from tensorflow.keras import layers, models, optimizers, callbacks\n",
        "initial_learning_rate = 0.0001\n",
        "#Model.compile(optimizer=optimizers.Adam(learning_rate=initial_learning_rate), loss='sparse_categorical_crossentropy', metrics=['accuracy'])\n",
        "Model.compile(optimizer=optimizers.Adam(learning_rate=initial_learning_rate), loss='categorical_crossentropy', metrics=['accuracy'])\n",
        "\n",
        "# Model compilation is an activity performed after writing the statements in a model and before training starts.\n",
        "# It checks for format errors, and defines the loss function, the optimizer or learning rate, and the metrics.\n",
        "# A compiled model is needed for training but not necessary for predicting."
      ]
    },
    {
      "cell_type": "code",
      "execution_count": null,
      "metadata": {
        "colab": {
          "base_uri": "https://localhost:8080/"
        },
        "id": "AM_PKgBYZCqE",
        "outputId": "63bd9e1a-f1b7-4f50-c567-9045d4576fbc"
      },
      "outputs": [
        {
          "output_type": "stream",
          "name": "stdout",
          "text": [
            "Epoch 1/100\n",
            "10/10 - 73s - loss: 1.0888 - accuracy: 0.5639 - val_loss: 1.0117 - val_accuracy: 0.5859 - 73s/epoch - 7s/step\n",
            "Epoch 2/100\n",
            "10/10 - 5s - loss: 1.0099 - accuracy: 0.6197 - val_loss: 0.9992 - val_accuracy: 0.6061 - 5s/epoch - 505ms/step\n",
            "Epoch 3/100\n",
            "10/10 - 7s - loss: 0.9095 - accuracy: 0.6918 - val_loss: 0.9885 - val_accuracy: 0.5960 - 7s/epoch - 695ms/step\n",
            "Epoch 4/100\n",
            "10/10 - 5s - loss: 0.8546 - accuracy: 0.7541 - val_loss: 0.9776 - val_accuracy: 0.6263 - 5s/epoch - 508ms/step\n",
            "Epoch 5/100\n",
            "10/10 - 9s - loss: 0.7782 - accuracy: 0.7705 - val_loss: 0.9691 - val_accuracy: 0.6061 - 9s/epoch - 853ms/step\n",
            "Epoch 6/100\n",
            "10/10 - 5s - loss: 0.7815 - accuracy: 0.7836 - val_loss: 0.9605 - val_accuracy: 0.6061 - 5s/epoch - 532ms/step\n",
            "Epoch 7/100\n",
            "10/10 - 5s - loss: 0.7630 - accuracy: 0.8033 - val_loss: 0.9506 - val_accuracy: 0.6263 - 5s/epoch - 508ms/step\n",
            "Epoch 8/100\n",
            "10/10 - 10s - loss: 0.7684 - accuracy: 0.7869 - val_loss: 0.9402 - val_accuracy: 0.6667 - 10s/epoch - 977ms/step\n",
            "Epoch 9/100\n",
            "10/10 - 5s - loss: 0.7106 - accuracy: 0.8164 - val_loss: 0.9293 - val_accuracy: 0.6667 - 5s/epoch - 501ms/step\n",
            "Epoch 10/100\n",
            "10/10 - 7s - loss: 0.6988 - accuracy: 0.8230 - val_loss: 0.9190 - val_accuracy: 0.6768 - 7s/epoch - 656ms/step\n",
            "Epoch 11/100\n",
            "10/10 - 6s - loss: 0.6916 - accuracy: 0.8557 - val_loss: 0.9083 - val_accuracy: 0.6970 - 6s/epoch - 583ms/step\n",
            "Epoch 12/100\n",
            "10/10 - 7s - loss: 0.6849 - accuracy: 0.8295 - val_loss: 0.8987 - val_accuracy: 0.6970 - 7s/epoch - 671ms/step\n",
            "Epoch 13/100\n",
            "10/10 - 5s - loss: 0.6816 - accuracy: 0.8525 - val_loss: 0.8887 - val_accuracy: 0.6970 - 5s/epoch - 501ms/step\n",
            "Epoch 14/100\n",
            "10/10 - 6s - loss: 0.6776 - accuracy: 0.8426 - val_loss: 0.8782 - val_accuracy: 0.7071 - 6s/epoch - 622ms/step\n",
            "Epoch 15/100\n",
            "10/10 - 5s - loss: 0.6635 - accuracy: 0.8393 - val_loss: 0.8664 - val_accuracy: 0.7374 - 5s/epoch - 507ms/step\n",
            "Epoch 16/100\n",
            "10/10 - 6s - loss: 0.6651 - accuracy: 0.8393 - val_loss: 0.8548 - val_accuracy: 0.7778 - 6s/epoch - 631ms/step\n",
            "Epoch 17/100\n",
            "10/10 - 6s - loss: 0.6575 - accuracy: 0.8426 - val_loss: 0.8434 - val_accuracy: 0.7980 - 6s/epoch - 615ms/step\n",
            "Epoch 18/100\n",
            "10/10 - 5s - loss: 0.6316 - accuracy: 0.8623 - val_loss: 0.8323 - val_accuracy: 0.8182 - 5s/epoch - 509ms/step\n",
            "Epoch 19/100\n",
            "10/10 - 7s - loss: 0.6530 - accuracy: 0.8459 - val_loss: 0.8219 - val_accuracy: 0.8182 - 7s/epoch - 679ms/step\n",
            "Epoch 20/100\n",
            "10/10 - 5s - loss: 0.6325 - accuracy: 0.8295 - val_loss: 0.8106 - val_accuracy: 0.8182 - 5s/epoch - 508ms/step\n",
            "Epoch 21/100\n",
            "10/10 - 6s - loss: 0.6239 - accuracy: 0.8525 - val_loss: 0.7993 - val_accuracy: 0.8485 - 6s/epoch - 621ms/step\n",
            "Epoch 22/100\n",
            "10/10 - 6s - loss: 0.6181 - accuracy: 0.8721 - val_loss: 0.7880 - val_accuracy: 0.8485 - 6s/epoch - 602ms/step\n",
            "Epoch 23/100\n",
            "10/10 - 6s - loss: 0.5642 - accuracy: 0.8951 - val_loss: 0.7755 - val_accuracy: 0.8687 - 6s/epoch - 623ms/step\n",
            "Epoch 24/100\n",
            "10/10 - 6s - loss: 0.6292 - accuracy: 0.8557 - val_loss: 0.7637 - val_accuracy: 0.8687 - 6s/epoch - 620ms/step\n",
            "Epoch 25/100\n",
            "10/10 - 5s - loss: 0.6165 - accuracy: 0.8656 - val_loss: 0.7522 - val_accuracy: 0.8788 - 5s/epoch - 512ms/step\n",
            "Epoch 26/100\n",
            "10/10 - 7s - loss: 0.5627 - accuracy: 0.8885 - val_loss: 0.7403 - val_accuracy: 0.8990 - 7s/epoch - 651ms/step\n",
            "Epoch 27/100\n",
            "10/10 - 5s - loss: 0.6293 - accuracy: 0.8426 - val_loss: 0.7293 - val_accuracy: 0.8990 - 5s/epoch - 504ms/step\n",
            "Epoch 28/100\n",
            "10/10 - 6s - loss: 0.5868 - accuracy: 0.8656 - val_loss: 0.7176 - val_accuracy: 0.8990 - 6s/epoch - 626ms/step\n",
            "Epoch 29/100\n",
            "10/10 - 5s - loss: 0.5775 - accuracy: 0.8852 - val_loss: 0.7055 - val_accuracy: 0.8990 - 5s/epoch - 522ms/step\n",
            "Epoch 30/100\n",
            "10/10 - 6s - loss: 0.5502 - accuracy: 0.8984 - val_loss: 0.6948 - val_accuracy: 0.8990 - 6s/epoch - 586ms/step\n",
            "Epoch 31/100\n",
            "10/10 - 5s - loss: 0.5370 - accuracy: 0.8951 - val_loss: 0.6829 - val_accuracy: 0.9091 - 5s/epoch - 506ms/step\n",
            "Epoch 32/100\n",
            "10/10 - 7s - loss: 0.5327 - accuracy: 0.9049 - val_loss: 0.6709 - val_accuracy: 0.9192 - 7s/epoch - 696ms/step\n",
            "Epoch 33/100\n",
            "10/10 - 5s - loss: 0.5933 - accuracy: 0.8721 - val_loss: 0.6595 - val_accuracy: 0.9192 - 5s/epoch - 514ms/step\n",
            "Epoch 34/100\n",
            "10/10 - 6s - loss: 0.5448 - accuracy: 0.8984 - val_loss: 0.6478 - val_accuracy: 0.9293 - 6s/epoch - 646ms/step\n",
            "Epoch 35/100\n",
            "10/10 - 6s - loss: 0.5854 - accuracy: 0.8754 - val_loss: 0.6361 - val_accuracy: 0.9293 - 6s/epoch - 583ms/step\n",
            "Epoch 36/100\n",
            "10/10 - 7s - loss: 0.5439 - accuracy: 0.8984 - val_loss: 0.6254 - val_accuracy: 0.9394 - 7s/epoch - 662ms/step\n",
            "Epoch 37/100\n",
            "10/10 - 6s - loss: 0.5619 - accuracy: 0.8918 - val_loss: 0.6142 - val_accuracy: 0.9495 - 6s/epoch - 578ms/step\n",
            "Epoch 38/100\n",
            "10/10 - 5s - loss: 0.5500 - accuracy: 0.8918 - val_loss: 0.6026 - val_accuracy: 0.9495 - 5s/epoch - 503ms/step\n",
            "Epoch 39/100\n",
            "10/10 - 7s - loss: 0.5236 - accuracy: 0.9049 - val_loss: 0.5916 - val_accuracy: 0.9495 - 7s/epoch - 694ms/step\n",
            "Epoch 40/100\n",
            "10/10 - 5s - loss: 0.5769 - accuracy: 0.8623 - val_loss: 0.5808 - val_accuracy: 0.9596 - 5s/epoch - 510ms/step\n",
            "Epoch 41/100\n",
            "10/10 - 7s - loss: 0.5641 - accuracy: 0.8787 - val_loss: 0.5706 - val_accuracy: 0.9596 - 7s/epoch - 666ms/step\n",
            "Epoch 42/100\n",
            "10/10 - 6s - loss: 0.5562 - accuracy: 0.8820 - val_loss: 0.5614 - val_accuracy: 0.9495 - 6s/epoch - 578ms/step\n",
            "Epoch 43/100\n",
            "10/10 - 5s - loss: 0.5178 - accuracy: 0.9180 - val_loss: 0.5517 - val_accuracy: 0.9495 - 5s/epoch - 503ms/step\n",
            "Epoch 44/100\n",
            "10/10 - 7s - loss: 0.5232 - accuracy: 0.9049 - val_loss: 0.5414 - val_accuracy: 0.9495 - 7s/epoch - 686ms/step\n",
            "Epoch 45/100\n",
            "10/10 - 5s - loss: 0.5211 - accuracy: 0.8852 - val_loss: 0.5321 - val_accuracy: 0.9394 - 5s/epoch - 536ms/step\n",
            "Epoch 46/100\n",
            "10/10 - 7s - loss: 0.5309 - accuracy: 0.8820 - val_loss: 0.5231 - val_accuracy: 0.9495 - 7s/epoch - 711ms/step\n",
            "Epoch 47/100\n",
            "10/10 - 5s - loss: 0.5475 - accuracy: 0.8918 - val_loss: 0.5153 - val_accuracy: 0.9394 - 5s/epoch - 519ms/step\n",
            "Epoch 48/100\n",
            "10/10 - 8s - loss: 0.4990 - accuracy: 0.9082 - val_loss: 0.5084 - val_accuracy: 0.9596 - 8s/epoch - 752ms/step\n",
            "Epoch 49/100\n",
            "10/10 - 5s - loss: 0.5687 - accuracy: 0.8754 - val_loss: 0.5014 - val_accuracy: 0.9596 - 5s/epoch - 512ms/step\n",
            "Epoch 50/100\n",
            "10/10 - 5s - loss: 0.5045 - accuracy: 0.9180 - val_loss: 0.4941 - val_accuracy: 0.9596 - 5s/epoch - 541ms/step\n",
            "Epoch 51/100\n",
            "10/10 - 7s - loss: 0.5070 - accuracy: 0.9344 - val_loss: 0.4865 - val_accuracy: 0.9495 - 7s/epoch - 698ms/step\n",
            "Epoch 52/100\n",
            "10/10 - 5s - loss: 0.4911 - accuracy: 0.8984 - val_loss: 0.4783 - val_accuracy: 0.9596 - 5s/epoch - 514ms/step\n",
            "Epoch 53/100\n",
            "10/10 - 7s - loss: 0.5403 - accuracy: 0.8721 - val_loss: 0.4712 - val_accuracy: 0.9596 - 7s/epoch - 732ms/step\n",
            "Epoch 54/100\n",
            "10/10 - 5s - loss: 0.5320 - accuracy: 0.8787 - val_loss: 0.4651 - val_accuracy: 0.9596 - 5s/epoch - 509ms/step\n",
            "Epoch 55/100\n",
            "10/10 - 5s - loss: 0.4766 - accuracy: 0.9180 - val_loss: 0.4596 - val_accuracy: 0.9596 - 5s/epoch - 540ms/step\n",
            "Epoch 56/100\n",
            "10/10 - 7s - loss: 0.5208 - accuracy: 0.8787 - val_loss: 0.4543 - val_accuracy: 0.9596 - 7s/epoch - 681ms/step\n",
            "Epoch 57/100\n",
            "10/10 - 5s - loss: 0.5343 - accuracy: 0.8787 - val_loss: 0.4484 - val_accuracy: 0.9596 - 5s/epoch - 508ms/step\n",
            "Epoch 58/100\n",
            "10/10 - 6s - loss: 0.4972 - accuracy: 0.8984 - val_loss: 0.4438 - val_accuracy: 0.9596 - 6s/epoch - 597ms/step\n",
            "Epoch 59/100\n",
            "10/10 - 5s - loss: 0.4821 - accuracy: 0.9115 - val_loss: 0.4394 - val_accuracy: 0.9495 - 5s/epoch - 511ms/step\n",
            "Epoch 60/100\n",
            "10/10 - 6s - loss: 0.4541 - accuracy: 0.9246 - val_loss: 0.4351 - val_accuracy: 0.9495 - 6s/epoch - 622ms/step\n",
            "Epoch 61/100\n",
            "10/10 - 6s - loss: 0.4871 - accuracy: 0.9016 - val_loss: 0.4306 - val_accuracy: 0.9495 - 6s/epoch - 619ms/step\n",
            "Epoch 62/100\n",
            "10/10 - 6s - loss: 0.4998 - accuracy: 0.9016 - val_loss: 0.4264 - val_accuracy: 0.9596 - 6s/epoch - 609ms/step\n",
            "Epoch 63/100\n",
            "10/10 - 6s - loss: 0.5045 - accuracy: 0.8852 - val_loss: 0.4224 - val_accuracy: 0.9596 - 6s/epoch - 634ms/step\n",
            "Epoch 64/100\n",
            "10/10 - 5s - loss: 0.4847 - accuracy: 0.9180 - val_loss: 0.4201 - val_accuracy: 0.9596 - 5s/epoch - 510ms/step\n",
            "Epoch 65/100\n",
            "10/10 - 6s - loss: 0.4650 - accuracy: 0.9213 - val_loss: 0.4170 - val_accuracy: 0.9596 - 6s/epoch - 639ms/step\n",
            "Epoch 66/100\n",
            "10/10 - 6s - loss: 0.4926 - accuracy: 0.8885 - val_loss: 0.4137 - val_accuracy: 0.9596 - 6s/epoch - 578ms/step\n",
            "Epoch 67/100\n",
            "10/10 - 7s - loss: 0.4986 - accuracy: 0.9082 - val_loss: 0.4105 - val_accuracy: 0.9596 - 7s/epoch - 656ms/step\n",
            "Epoch 68/100\n",
            "10/10 - 6s - loss: 0.4773 - accuracy: 0.9180 - val_loss: 0.4075 - val_accuracy: 0.9596 - 6s/epoch - 587ms/step\n",
            "Epoch 69/100\n",
            "10/10 - 5s - loss: 0.4976 - accuracy: 0.8984 - val_loss: 0.4057 - val_accuracy: 0.9495 - 5s/epoch - 510ms/step\n",
            "Epoch 70/100\n",
            "10/10 - 7s - loss: 0.4938 - accuracy: 0.8984 - val_loss: 0.4029 - val_accuracy: 0.9596 - 7s/epoch - 694ms/step\n",
            "Epoch 71/100\n",
            "10/10 - 5s - loss: 0.4485 - accuracy: 0.9246 - val_loss: 0.3995 - val_accuracy: 0.9596 - 5s/epoch - 531ms/step\n",
            "Epoch 72/100\n",
            "10/10 - 8s - loss: 0.4619 - accuracy: 0.9213 - val_loss: 0.3966 - val_accuracy: 0.9596 - 8s/epoch - 788ms/step\n",
            "Epoch 73/100\n",
            "10/10 - 5s - loss: 0.4547 - accuracy: 0.9311 - val_loss: 0.3939 - val_accuracy: 0.9697 - 5s/epoch - 510ms/step\n",
            "Epoch 74/100\n",
            "10/10 - 5s - loss: 0.5126 - accuracy: 0.8852 - val_loss: 0.3908 - val_accuracy: 0.9596 - 5s/epoch - 549ms/step\n",
            "Epoch 75/100\n",
            "10/10 - 5s - loss: 0.4712 - accuracy: 0.9344 - val_loss: 0.3877 - val_accuracy: 0.9596 - 5s/epoch - 520ms/step\n",
            "Epoch 76/100\n",
            "10/10 - 6s - loss: 0.4869 - accuracy: 0.9049 - val_loss: 0.3870 - val_accuracy: 0.9596 - 6s/epoch - 599ms/step\n",
            "Epoch 77/100\n",
            "10/10 - 5s - loss: 0.5010 - accuracy: 0.8984 - val_loss: 0.3858 - val_accuracy: 0.9596 - 5s/epoch - 500ms/step\n",
            "Epoch 78/100\n",
            "10/10 - 6s - loss: 0.4619 - accuracy: 0.9180 - val_loss: 0.3837 - val_accuracy: 0.9596 - 6s/epoch - 589ms/step\n",
            "Epoch 79/100\n",
            "10/10 - 5s - loss: 0.4440 - accuracy: 0.9311 - val_loss: 0.3815 - val_accuracy: 0.9596 - 5s/epoch - 500ms/step\n",
            "Epoch 80/100\n",
            "10/10 - 6s - loss: 0.4768 - accuracy: 0.8820 - val_loss: 0.3807 - val_accuracy: 0.9596 - 6s/epoch - 628ms/step\n",
            "Epoch 81/100\n",
            "10/10 - 5s - loss: 0.4870 - accuracy: 0.9082 - val_loss: 0.3782 - val_accuracy: 0.9596 - 5s/epoch - 508ms/step\n",
            "Epoch 82/100\n",
            "10/10 - 6s - loss: 0.4669 - accuracy: 0.9016 - val_loss: 0.3758 - val_accuracy: 0.9596 - 6s/epoch - 623ms/step\n",
            "Epoch 83/100\n",
            "10/10 - 6s - loss: 0.4396 - accuracy: 0.9246 - val_loss: 0.3744 - val_accuracy: 0.9596 - 6s/epoch - 613ms/step\n",
            "Epoch 84/100\n",
            "10/10 - 5s - loss: 0.4757 - accuracy: 0.8852 - val_loss: 0.3733 - val_accuracy: 0.9495 - 5s/epoch - 516ms/step\n",
            "Epoch 85/100\n",
            "10/10 - 5s - loss: 0.4809 - accuracy: 0.8984 - val_loss: 0.3707 - val_accuracy: 0.9596 - 5s/epoch - 520ms/step\n",
            "Epoch 86/100\n",
            "10/10 - 7s - loss: 0.4195 - accuracy: 0.9443 - val_loss: 0.3698 - val_accuracy: 0.9495 - 7s/epoch - 746ms/step\n",
            "Epoch 87/100\n",
            "10/10 - 5s - loss: 0.4391 - accuracy: 0.9246 - val_loss: 0.3692 - val_accuracy: 0.9495 - 5s/epoch - 504ms/step\n",
            "Epoch 88/100\n",
            "10/10 - 5s - loss: 0.4342 - accuracy: 0.9213 - val_loss: 0.3673 - val_accuracy: 0.9596 - 5s/epoch - 522ms/step\n",
            "Epoch 89/100\n",
            "10/10 - 5s - loss: 0.4144 - accuracy: 0.9377 - val_loss: 0.3646 - val_accuracy: 0.9596 - 5s/epoch - 500ms/step\n",
            "Epoch 90/100\n",
            "10/10 - 6s - loss: 0.4332 - accuracy: 0.9213 - val_loss: 0.3612 - val_accuracy: 0.9596 - 6s/epoch - 580ms/step\n",
            "Epoch 91/100\n",
            "10/10 - 7s - loss: 0.4219 - accuracy: 0.9180 - val_loss: 0.3596 - val_accuracy: 0.9596 - 7s/epoch - 657ms/step\n",
            "Epoch 92/100\n",
            "10/10 - 6s - loss: 0.3955 - accuracy: 0.9475 - val_loss: 0.3585 - val_accuracy: 0.9596 - 6s/epoch - 558ms/step\n",
            "Epoch 93/100\n",
            "10/10 - 7s - loss: 0.4314 - accuracy: 0.9180 - val_loss: 0.3580 - val_accuracy: 0.9596 - 7s/epoch - 688ms/step\n",
            "Epoch 94/100\n",
            "10/10 - 5s - loss: 0.4624 - accuracy: 0.8885 - val_loss: 0.3567 - val_accuracy: 0.9697 - 5s/epoch - 512ms/step\n",
            "Epoch 95/100\n",
            "10/10 - 6s - loss: 0.4319 - accuracy: 0.9148 - val_loss: 0.3552 - val_accuracy: 0.9697 - 6s/epoch - 603ms/step\n",
            "Epoch 96/100\n",
            "10/10 - 5s - loss: 0.4354 - accuracy: 0.9213 - val_loss: 0.3534 - val_accuracy: 0.9697 - 5s/epoch - 504ms/step\n",
            "Epoch 97/100\n",
            "10/10 - 6s - loss: 0.4520 - accuracy: 0.9115 - val_loss: 0.3522 - val_accuracy: 0.9697 - 6s/epoch - 618ms/step\n",
            "Epoch 98/100\n",
            "10/10 - 5s - loss: 0.3984 - accuracy: 0.9508 - val_loss: 0.3510 - val_accuracy: 0.9697 - 5s/epoch - 508ms/step\n",
            "Epoch 99/100\n",
            "10/10 - 6s - loss: 0.4511 - accuracy: 0.9082 - val_loss: 0.3500 - val_accuracy: 0.9697 - 6s/epoch - 619ms/step\n",
            "Epoch 100/100\n",
            "10/10 - 6s - loss: 0.4503 - accuracy: 0.9115 - val_loss: 0.3475 - val_accuracy: 0.9697 - 6s/epoch - 610ms/step\n",
            "CPU times: user 8min 47s, sys: 19.7 s, total: 9min 7s\n",
            "Wall time: 13min 8s\n"
          ]
        }
      ],
      "source": [
        "# Define a learning rate decay schedule\n",
        "#def lr_schedule(epoch):\n",
        " #   return initial_learning_rate * 0.95 ** epoch\n",
        "%%time\n",
        "# Create a learning rate scheduler callback\n",
        "#lr_scheduler = callbacks.LearningRateScheduler(lr_schedule)\n",
        "#hist=Model.fit(train_batches , validation_data=validation_batches,callbacks=[lr_scheduler], verbose=2, epochs=100, batch_size=32)\n",
        "hist=Model.fit(train_batches, validation_data=validation_batches, verbose=2, epochs=100, batch_size=32)"
      ]
    },
    {
      "cell_type": "code",
      "execution_count": null,
      "metadata": {
        "colab": {
          "base_uri": "https://localhost:8080/"
        },
        "id": "J7LIdQ3vQ00X",
        "outputId": "f25f5b27-c83b-45e8-c718-95f0dd1a2220"
      },
      "outputs": [
        {
          "output_type": "execute_result",
          "data": {
            "text/plain": [
              "dict_keys(['loss', 'accuracy', 'val_loss', 'val_accuracy'])"
            ]
          },
          "metadata": {},
          "execution_count": 15
        }
      ],
      "source": [
        "hist.history.keys()    # the output is the valued which stored in the hist"
      ]
    },
    {
      "cell_type": "code",
      "execution_count": null,
      "metadata": {
        "id": "DhzYbyr9K_1-"
      },
      "outputs": [],
      "source": [
        "#hist.history['loss']    #loss value in each epoch"
      ]
    },
    {
      "cell_type": "code",
      "execution_count": null,
      "metadata": {
        "id": "yXa45l5eEiM2"
      },
      "outputs": [],
      "source": [
        "loss_df = pd.DataFrame({'val Loss': hist.history['val_loss'] })\n",
        "val_accuracy_df = pd.DataFrame({'val_accuracy Loss': hist.history['val_accuracy'] })\n",
        "\n",
        "loss_df.to_csv('/content/gdrive/MyDrive/df_val(loss-acc)/val_loss_lr.csv')\n",
        "val_accuracy_df.to_csv('/content/gdrive/MyDrive/df_val(loss-acc)/val_accuracy_lr.csv')"
      ]
    },
    {
      "cell_type": "code",
      "execution_count": null,
      "metadata": {
        "colab": {
          "base_uri": "https://localhost:8080/"
        },
        "id": "4iuawYzF6fMm",
        "outputId": "0c6e1a9c-bbdb-4e3f-d312-cd61cf9adbc6"
      },
      "outputs": [
        {
          "output_type": "execute_result",
          "data": {
            "text/plain": [
              "    val Loss\n",
              "0   1.011696\n",
              "1   0.999188\n",
              "2   0.988458\n",
              "3   0.977587\n",
              "4   0.969060\n",
              "..       ...\n",
              "95  0.353430\n",
              "96  0.352243\n",
              "97  0.351017\n",
              "98  0.349979\n",
              "99  0.347456\n",
              "\n",
              "[100 rows x 1 columns]"
            ],
            "text/html": [
              "\n",
              "  <div id=\"df-a2745f8e-171f-44f6-98f4-48d1b4bd66bc\" class=\"colab-df-container\">\n",
              "    <div>\n",
              "<style scoped>\n",
              "    .dataframe tbody tr th:only-of-type {\n",
              "        vertical-align: middle;\n",
              "    }\n",
              "\n",
              "    .dataframe tbody tr th {\n",
              "        vertical-align: top;\n",
              "    }\n",
              "\n",
              "    .dataframe thead th {\n",
              "        text-align: right;\n",
              "    }\n",
              "</style>\n",
              "<table border=\"1\" class=\"dataframe\">\n",
              "  <thead>\n",
              "    <tr style=\"text-align: right;\">\n",
              "      <th></th>\n",
              "      <th>val Loss</th>\n",
              "    </tr>\n",
              "  </thead>\n",
              "  <tbody>\n",
              "    <tr>\n",
              "      <th>0</th>\n",
              "      <td>1.011696</td>\n",
              "    </tr>\n",
              "    <tr>\n",
              "      <th>1</th>\n",
              "      <td>0.999188</td>\n",
              "    </tr>\n",
              "    <tr>\n",
              "      <th>2</th>\n",
              "      <td>0.988458</td>\n",
              "    </tr>\n",
              "    <tr>\n",
              "      <th>3</th>\n",
              "      <td>0.977587</td>\n",
              "    </tr>\n",
              "    <tr>\n",
              "      <th>4</th>\n",
              "      <td>0.969060</td>\n",
              "    </tr>\n",
              "    <tr>\n",
              "      <th>...</th>\n",
              "      <td>...</td>\n",
              "    </tr>\n",
              "    <tr>\n",
              "      <th>95</th>\n",
              "      <td>0.353430</td>\n",
              "    </tr>\n",
              "    <tr>\n",
              "      <th>96</th>\n",
              "      <td>0.352243</td>\n",
              "    </tr>\n",
              "    <tr>\n",
              "      <th>97</th>\n",
              "      <td>0.351017</td>\n",
              "    </tr>\n",
              "    <tr>\n",
              "      <th>98</th>\n",
              "      <td>0.349979</td>\n",
              "    </tr>\n",
              "    <tr>\n",
              "      <th>99</th>\n",
              "      <td>0.347456</td>\n",
              "    </tr>\n",
              "  </tbody>\n",
              "</table>\n",
              "<p>100 rows × 1 columns</p>\n",
              "</div>\n",
              "    <div class=\"colab-df-buttons\">\n",
              "\n",
              "  <div class=\"colab-df-container\">\n",
              "    <button class=\"colab-df-convert\" onclick=\"convertToInteractive('df-a2745f8e-171f-44f6-98f4-48d1b4bd66bc')\"\n",
              "            title=\"Convert this dataframe to an interactive table.\"\n",
              "            style=\"display:none;\">\n",
              "\n",
              "  <svg xmlns=\"http://www.w3.org/2000/svg\" height=\"24px\" viewBox=\"0 -960 960 960\">\n",
              "    <path d=\"M120-120v-720h720v720H120Zm60-500h600v-160H180v160Zm220 220h160v-160H400v160Zm0 220h160v-160H400v160ZM180-400h160v-160H180v160Zm440 0h160v-160H620v160ZM180-180h160v-160H180v160Zm440 0h160v-160H620v160Z\"/>\n",
              "  </svg>\n",
              "    </button>\n",
              "\n",
              "  <style>\n",
              "    .colab-df-container {\n",
              "      display:flex;\n",
              "      gap: 12px;\n",
              "    }\n",
              "\n",
              "    .colab-df-convert {\n",
              "      background-color: #E8F0FE;\n",
              "      border: none;\n",
              "      border-radius: 50%;\n",
              "      cursor: pointer;\n",
              "      display: none;\n",
              "      fill: #1967D2;\n",
              "      height: 32px;\n",
              "      padding: 0 0 0 0;\n",
              "      width: 32px;\n",
              "    }\n",
              "\n",
              "    .colab-df-convert:hover {\n",
              "      background-color: #E2EBFA;\n",
              "      box-shadow: 0px 1px 2px rgba(60, 64, 67, 0.3), 0px 1px 3px 1px rgba(60, 64, 67, 0.15);\n",
              "      fill: #174EA6;\n",
              "    }\n",
              "\n",
              "    .colab-df-buttons div {\n",
              "      margin-bottom: 4px;\n",
              "    }\n",
              "\n",
              "    [theme=dark] .colab-df-convert {\n",
              "      background-color: #3B4455;\n",
              "      fill: #D2E3FC;\n",
              "    }\n",
              "\n",
              "    [theme=dark] .colab-df-convert:hover {\n",
              "      background-color: #434B5C;\n",
              "      box-shadow: 0px 1px 3px 1px rgba(0, 0, 0, 0.15);\n",
              "      filter: drop-shadow(0px 1px 2px rgba(0, 0, 0, 0.3));\n",
              "      fill: #FFFFFF;\n",
              "    }\n",
              "  </style>\n",
              "\n",
              "    <script>\n",
              "      const buttonEl =\n",
              "        document.querySelector('#df-a2745f8e-171f-44f6-98f4-48d1b4bd66bc button.colab-df-convert');\n",
              "      buttonEl.style.display =\n",
              "        google.colab.kernel.accessAllowed ? 'block' : 'none';\n",
              "\n",
              "      async function convertToInteractive(key) {\n",
              "        const element = document.querySelector('#df-a2745f8e-171f-44f6-98f4-48d1b4bd66bc');\n",
              "        const dataTable =\n",
              "          await google.colab.kernel.invokeFunction('convertToInteractive',\n",
              "                                                    [key], {});\n",
              "        if (!dataTable) return;\n",
              "\n",
              "        const docLinkHtml = 'Like what you see? Visit the ' +\n",
              "          '<a target=\"_blank\" href=https://colab.research.google.com/notebooks/data_table.ipynb>data table notebook</a>'\n",
              "          + ' to learn more about interactive tables.';\n",
              "        element.innerHTML = '';\n",
              "        dataTable['output_type'] = 'display_data';\n",
              "        await google.colab.output.renderOutput(dataTable, element);\n",
              "        const docLink = document.createElement('div');\n",
              "        docLink.innerHTML = docLinkHtml;\n",
              "        element.appendChild(docLink);\n",
              "      }\n",
              "    </script>\n",
              "  </div>\n",
              "\n",
              "\n",
              "<div id=\"df-932a9aff-8941-439e-a0fb-57ff1c9d4989\">\n",
              "  <button class=\"colab-df-quickchart\" onclick=\"quickchart('df-932a9aff-8941-439e-a0fb-57ff1c9d4989')\"\n",
              "            title=\"Suggest charts\"\n",
              "            style=\"display:none;\">\n",
              "\n",
              "<svg xmlns=\"http://www.w3.org/2000/svg\" height=\"24px\"viewBox=\"0 0 24 24\"\n",
              "     width=\"24px\">\n",
              "    <g>\n",
              "        <path d=\"M19 3H5c-1.1 0-2 .9-2 2v14c0 1.1.9 2 2 2h14c1.1 0 2-.9 2-2V5c0-1.1-.9-2-2-2zM9 17H7v-7h2v7zm4 0h-2V7h2v10zm4 0h-2v-4h2v4z\"/>\n",
              "    </g>\n",
              "</svg>\n",
              "  </button>\n",
              "\n",
              "<style>\n",
              "  .colab-df-quickchart {\n",
              "      --bg-color: #E8F0FE;\n",
              "      --fill-color: #1967D2;\n",
              "      --hover-bg-color: #E2EBFA;\n",
              "      --hover-fill-color: #174EA6;\n",
              "      --disabled-fill-color: #AAA;\n",
              "      --disabled-bg-color: #DDD;\n",
              "  }\n",
              "\n",
              "  [theme=dark] .colab-df-quickchart {\n",
              "      --bg-color: #3B4455;\n",
              "      --fill-color: #D2E3FC;\n",
              "      --hover-bg-color: #434B5C;\n",
              "      --hover-fill-color: #FFFFFF;\n",
              "      --disabled-bg-color: #3B4455;\n",
              "      --disabled-fill-color: #666;\n",
              "  }\n",
              "\n",
              "  .colab-df-quickchart {\n",
              "    background-color: var(--bg-color);\n",
              "    border: none;\n",
              "    border-radius: 50%;\n",
              "    cursor: pointer;\n",
              "    display: none;\n",
              "    fill: var(--fill-color);\n",
              "    height: 32px;\n",
              "    padding: 0;\n",
              "    width: 32px;\n",
              "  }\n",
              "\n",
              "  .colab-df-quickchart:hover {\n",
              "    background-color: var(--hover-bg-color);\n",
              "    box-shadow: 0 1px 2px rgba(60, 64, 67, 0.3), 0 1px 3px 1px rgba(60, 64, 67, 0.15);\n",
              "    fill: var(--button-hover-fill-color);\n",
              "  }\n",
              "\n",
              "  .colab-df-quickchart-complete:disabled,\n",
              "  .colab-df-quickchart-complete:disabled:hover {\n",
              "    background-color: var(--disabled-bg-color);\n",
              "    fill: var(--disabled-fill-color);\n",
              "    box-shadow: none;\n",
              "  }\n",
              "\n",
              "  .colab-df-spinner {\n",
              "    border: 2px solid var(--fill-color);\n",
              "    border-color: transparent;\n",
              "    border-bottom-color: var(--fill-color);\n",
              "    animation:\n",
              "      spin 1s steps(1) infinite;\n",
              "  }\n",
              "\n",
              "  @keyframes spin {\n",
              "    0% {\n",
              "      border-color: transparent;\n",
              "      border-bottom-color: var(--fill-color);\n",
              "      border-left-color: var(--fill-color);\n",
              "    }\n",
              "    20% {\n",
              "      border-color: transparent;\n",
              "      border-left-color: var(--fill-color);\n",
              "      border-top-color: var(--fill-color);\n",
              "    }\n",
              "    30% {\n",
              "      border-color: transparent;\n",
              "      border-left-color: var(--fill-color);\n",
              "      border-top-color: var(--fill-color);\n",
              "      border-right-color: var(--fill-color);\n",
              "    }\n",
              "    40% {\n",
              "      border-color: transparent;\n",
              "      border-right-color: var(--fill-color);\n",
              "      border-top-color: var(--fill-color);\n",
              "    }\n",
              "    60% {\n",
              "      border-color: transparent;\n",
              "      border-right-color: var(--fill-color);\n",
              "    }\n",
              "    80% {\n",
              "      border-color: transparent;\n",
              "      border-right-color: var(--fill-color);\n",
              "      border-bottom-color: var(--fill-color);\n",
              "    }\n",
              "    90% {\n",
              "      border-color: transparent;\n",
              "      border-bottom-color: var(--fill-color);\n",
              "    }\n",
              "  }\n",
              "</style>\n",
              "\n",
              "  <script>\n",
              "    async function quickchart(key) {\n",
              "      const quickchartButtonEl =\n",
              "        document.querySelector('#' + key + ' button');\n",
              "      quickchartButtonEl.disabled = true;  // To prevent multiple clicks.\n",
              "      quickchartButtonEl.classList.add('colab-df-spinner');\n",
              "      try {\n",
              "        const charts = await google.colab.kernel.invokeFunction(\n",
              "            'suggestCharts', [key], {});\n",
              "      } catch (error) {\n",
              "        console.error('Error during call to suggestCharts:', error);\n",
              "      }\n",
              "      quickchartButtonEl.classList.remove('colab-df-spinner');\n",
              "      quickchartButtonEl.classList.add('colab-df-quickchart-complete');\n",
              "    }\n",
              "    (() => {\n",
              "      let quickchartButtonEl =\n",
              "        document.querySelector('#df-932a9aff-8941-439e-a0fb-57ff1c9d4989 button');\n",
              "      quickchartButtonEl.style.display =\n",
              "        google.colab.kernel.accessAllowed ? 'block' : 'none';\n",
              "    })();\n",
              "  </script>\n",
              "</div>\n",
              "    </div>\n",
              "  </div>\n"
            ]
          },
          "metadata": {},
          "execution_count": 18
        }
      ],
      "source": [
        "loss_df"
      ]
    },
    {
      "cell_type": "code",
      "execution_count": null,
      "metadata": {
        "id": "GcGAzmbLnjVx",
        "colab": {
          "base_uri": "https://localhost:8080/"
        },
        "outputId": "43ea9af5-d167-425d-f0e0-9f2bd514d74e"
      },
      "outputs": [
        {
          "output_type": "stream",
          "name": "stdout",
          "text": [
            "10/10 - 6s - loss: 0.3446 - accuracy: 0.9770 - 6s/epoch - 552ms/step\n",
            "train loss: 0.34464073181152344\n",
            "train accuracy: 0.9770491719245911\n",
            "4/4 - 1s - loss: 0.3475 - accuracy: 0.9697 - 833ms/epoch - 208ms/step\n",
            "validation loss: 0.3474560081958771\n",
            "validation accuracy: 0.9696969985961914\n",
            "3/3 - 17s - loss: 0.4193 - accuracy: 0.9130 - 17s/epoch - 6s/step\n",
            "test loss: 0.41927552223205566\n",
            "test accuracy: 0.9130434989929199\n"
          ]
        }
      ],
      "source": [
        "score = Model.evaluate(train_batches, verbose=2) #Evaluation of the model on the train dataset\n",
        "print('train loss:', score[0])\n",
        "print('train accuracy:', score[1])\n",
        "loss, accuracy = Model.evaluate(validation_batches, verbose=2) #Evaluation of the model on the validation dataset\n",
        "print('validation loss:', loss)\n",
        "print('validation accuracy:', accuracy)\n",
        "loss, accuracy = Model.evaluate(test_batches, verbose=2) #Evaluation of the model on the test dataset\n",
        "print('test loss:', loss)\n",
        "print('test accuracy:', accuracy)"
      ]
    },
    {
      "cell_type": "code",
      "execution_count": null,
      "metadata": {
        "id": "Twq4rzwKhDq3",
        "colab": {
          "base_uri": "https://localhost:8080/"
        },
        "outputId": "0a393778-8182-4f2b-bdc7-08271c9fb550"
      },
      "outputs": [
        {
          "output_type": "display_data",
          "data": {
            "text/plain": [
              "<Figure size 640x480 with 1 Axes>"
            ],
            "image/png": "[encoded data removed]"
          },
          "metadata": {}
        }
      ],
      "source": [
        "plt.plot(hist.history['accuracy'])\n",
        "plt.plot(hist.history['val_accuracy'])\n",
        "plt.title('acc trend')\n",
        "plt.ylabel('accuracy')\n",
        "plt.xlabel('epochs')\n",
        "plt.legend(['train', 'test'])\n",
        "plt.show()"
      ]
    },
    {
      "cell_type": "code",
      "execution_count": null,
      "metadata": {
        "id": "Wn6ZXGFthG6g",
        "colab": {
          "base_uri": "https://localhost:8080/"
        },
        "outputId": "1031dd8d-d602-44c9-c40a-ab5e2e5752ad"
      },
      "outputs": [
        {
          "output_type": "display_data",
          "data": {
            "text/plain": [
              "<Figure size 640x480 with 1 Axes>"
            ],
            "image/png": "[encoded data removed]"
          },
          "metadata": {}
        }
      ],
      "source": [
        "plt.plot(hist.history['loss'])\n",
        "plt.plot(hist.history['val_loss'])\n",
        "plt.title('loss trend')\n",
        "plt.ylabel('loss')\n",
        "plt.xlabel('epochs')\n",
        "plt.legend(['train', 'test'])\n",
        "plt.show()"
      ]
    }
  ],
  "metadata": {
    "accelerator": "GPU",
    "colab": {
      "provenance": [],
      "include_colab_link": true
    },
    "kernelspec": {
      "display_name": "Python 3",
      "name": "python3"
    },
    "language_info": {
      "name": "python"
    }
  },
  "nbformat": 4,
  "nbformat_minor": 0
}